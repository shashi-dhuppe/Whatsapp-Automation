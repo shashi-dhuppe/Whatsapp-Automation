{
 "cells": [
  {
   "cell_type": "code",
   "execution_count": 1,
   "id": "accepted-cabin",
   "metadata": {},
   "outputs": [],
   "source": [
    "import pandas as pd\n",
    "\n",
    "import requests\n",
    "from bs4 import BeautifulSoup"
   ]
  },
  {
   "cell_type": "markdown",
   "id": "behind-extreme",
   "metadata": {},
   "source": [
    "## Method\n",
    "\n",
    "1. For loop which generates all the urls\n",
    "2. Beautiful soup which extracts the shloka"
   ]
  },
  {
   "cell_type": "markdown",
   "id": "instructional-porcelain",
   "metadata": {},
   "source": [
    "### Basic skeleton of every web page"
   ]
  },
  {
   "cell_type": "code",
   "execution_count": 2,
   "id": "progressive-bibliography",
   "metadata": {},
   "outputs": [],
   "source": [
    "chapterNos, verseNos = 1,1\n",
    "base = 'https://www.holy-bhagavad-gita.org/chapter/'  \n",
    "base = base + str(chapterNos)\n",
    "base = base + '/verse/' \n",
    "base = base + str(verseNos)  \n",
    "base = base + '/'"
   ]
  },
  {
   "cell_type": "markdown",
   "id": "authentic-shoot",
   "metadata": {},
   "source": [
    "### Building dictionary to get how many verses in each chapter "
   ]
  },
  {
   "cell_type": "code",
   "execution_count": 3,
   "id": "apart-salon",
   "metadata": {},
   "outputs": [],
   "source": [
    "f = open(\"bhagwadGeetaChapterVerses.txt\", \"r\")"
   ]
  },
  {
   "cell_type": "code",
   "execution_count": 4,
   "id": "hispanic-junction",
   "metadata": {},
   "outputs": [],
   "source": [
    "lines = f.readlines()"
   ]
  },
  {
   "cell_type": "code",
   "execution_count": 31,
   "id": "premier-talent",
   "metadata": {},
   "outputs": [
    {
     "data": {
      "text/plain": [
       "[\"1\\tArjuna's Vishada Yoga\\t47\\n\",\n",
       " '2\\tSankhya Yoga\\t72\\n',\n",
       " '3\\tKarma Yoga\\t43\\n',\n",
       " '4\\tJnana-Karma-Sanyasa Yoga\\t42\\n',\n",
       " '5\\tKarma-Sanyasa Yoga\\t29\\n']"
      ]
     },
     "execution_count": 31,
     "metadata": {},
     "output_type": "execute_result"
    }
   ],
   "source": [
    "lines[:5]"
   ]
  },
  {
   "cell_type": "code",
   "execution_count": 6,
   "id": "unlike-reset",
   "metadata": {},
   "outputs": [],
   "source": [
    "df = pd.DataFrame(columns={'Number of Verses','Name'})"
   ]
  },
  {
   "cell_type": "code",
   "execution_count": 32,
   "id": "joined-freeze",
   "metadata": {},
   "outputs": [],
   "source": [
    "# df"
   ]
  },
  {
   "cell_type": "code",
   "execution_count": 8,
   "id": "greenhouse-dutch",
   "metadata": {},
   "outputs": [],
   "source": [
    "for line in lines:\n",
    "    row = line.split('\\t')\n",
    "    row[2]=int(row[2].replace('\\n',''))\n",
    "    df.loc[row[0]]=[row[1],row[2]]"
   ]
  },
  {
   "cell_type": "code",
   "execution_count": 9,
   "id": "handmade-fight",
   "metadata": {},
   "outputs": [
    {
     "data": {
      "text/html": [
       "<div>\n",
       "<style scoped>\n",
       "    .dataframe tbody tr th:only-of-type {\n",
       "        vertical-align: middle;\n",
       "    }\n",
       "\n",
       "    .dataframe tbody tr th {\n",
       "        vertical-align: top;\n",
       "    }\n",
       "\n",
       "    .dataframe thead th {\n",
       "        text-align: right;\n",
       "    }\n",
       "</style>\n",
       "<table border=\"1\" class=\"dataframe\">\n",
       "  <thead>\n",
       "    <tr style=\"text-align: right;\">\n",
       "      <th></th>\n",
       "      <th>Name</th>\n",
       "      <th>Number of Verses</th>\n",
       "    </tr>\n",
       "  </thead>\n",
       "  <tbody>\n",
       "    <tr>\n",
       "      <th>1</th>\n",
       "      <td>Arjuna's Vishada Yoga</td>\n",
       "      <td>47</td>\n",
       "    </tr>\n",
       "    <tr>\n",
       "      <th>2</th>\n",
       "      <td>Sankhya Yoga</td>\n",
       "      <td>72</td>\n",
       "    </tr>\n",
       "    <tr>\n",
       "      <th>3</th>\n",
       "      <td>Karma Yoga</td>\n",
       "      <td>43</td>\n",
       "    </tr>\n",
       "    <tr>\n",
       "      <th>4</th>\n",
       "      <td>Jnana-Karma-Sanyasa Yoga</td>\n",
       "      <td>42</td>\n",
       "    </tr>\n",
       "    <tr>\n",
       "      <th>5</th>\n",
       "      <td>Karma-Sanyasa Yoga</td>\n",
       "      <td>29</td>\n",
       "    </tr>\n",
       "  </tbody>\n",
       "</table>\n",
       "</div>"
      ],
      "text/plain": [
       "                       Name Number of Verses\n",
       "1     Arjuna's Vishada Yoga               47\n",
       "2              Sankhya Yoga               72\n",
       "3                Karma Yoga               43\n",
       "4  Jnana-Karma-Sanyasa Yoga               42\n",
       "5        Karma-Sanyasa Yoga               29"
      ]
     },
     "execution_count": 9,
     "metadata": {},
     "output_type": "execute_result"
    }
   ],
   "source": [
    "df.head()"
   ]
  },
  {
   "cell_type": "markdown",
   "id": "small-restoration",
   "metadata": {},
   "source": [
    "### Exploring one webpage and extracting the verse"
   ]
  },
  {
   "cell_type": "code",
   "execution_count": 10,
   "id": "alive-inflation",
   "metadata": {},
   "outputs": [],
   "source": [
    "URL = base"
   ]
  },
  {
   "cell_type": "code",
   "execution_count": 11,
   "id": "previous-court",
   "metadata": {},
   "outputs": [
    {
     "data": {
      "text/plain": [
       "'https://www.holy-bhagavad-gita.org/chapter/1/verse/1/'"
      ]
     },
     "execution_count": 11,
     "metadata": {},
     "output_type": "execute_result"
    }
   ],
   "source": [
    "base"
   ]
  },
  {
   "cell_type": "code",
   "execution_count": 12,
   "id": "funny-competition",
   "metadata": {},
   "outputs": [],
   "source": [
    "page = requests.get(URL)\n",
    "\n",
    "# print(page.text)"
   ]
  },
  {
   "cell_type": "code",
   "execution_count": 13,
   "id": "received-scratch",
   "metadata": {},
   "outputs": [],
   "source": [
    "soup = BeautifulSoup(page.content, \"html.parser\")"
   ]
  },
  {
   "cell_type": "code",
   "execution_count": 106,
   "id": "regular-admission",
   "metadata": {},
   "outputs": [
    {
     "data": {
      "text/plain": [
       "<!DOCTYPE html>\n",
       "\n",
       "<html lang=\"en\" prefix=\"og: http://ogp.me/ns#\">\n",
       "<head>\n",
       "<title>Chapter 1, Verse 1 – Bhagavad Gita, The Song of God – Swami Mukundananda</title>\n",
       "<meta content=\"text/html; charset=utf-8\" http-equiv=\"Content-Type\"/>\n",
       "<meta content=\"100000449757007\" property=\"fb:admins\"/>\n",
       "<meta content=\"100000756628610\" property=\"fb:admins\"/>\n",
       "<meta content=\"en\" id=\"inLanguage\" itemprop=\"inLanguage\"/>\n",
       "<meta content=\"Jagadguru Kripaluji Yog, USA\" id=\"publisher\" itemprop=\"publisher\"/>\n",
       "<!-- for Google -->\n",
       "<meta content=\"BG 1.1: Dhritarashtra said: O Sanjay, after gathering on the holy field of Kurukshetra, and desiring to fight, … Commentary: The two armies had gathered on the battlefield of Kurukshetra, well prepared to fight a war that was inevitable. Still, in this verse, King Dhritarashtra …\" name=\"description\">\n",
       "<meta content=\"&lt;p&gt;dhritarashtra uvacha&lt;br/&gt; dharma-kshetre kuru-kshetre samaveta yuyutsavah&lt;br/&gt; mamakah pandavashchaiva kimakurvata sanjaya&lt;/p&gt;\" name=\"description\">\n",
       "<meta content=\"bhagavad gita, song of god, bhagavad gita online, swami mukundananda, jagadguru shree kripaluji maharaj, krishna, shree krishna, mahabharata\" name=\"keywords\"/>\n",
       "<meta content=\"Swami Mukundananda\" name=\"author\"/>\n",
       "<meta content=\"Bhagavad Gita - The Song of God, by Swami Mukundananda\" name=\"copyright\"/>\n",
       "<meta content=\"Bhagavad Gita - The Song of God, by Swami Mukundananda\" name=\"application-name\"/>\n",
       "<!-- for Facebook -->\n",
       "<meta content=\"Chapter 1, Verse 1 – Bhagavad Gita, The Song of God – Swami Mukundananda\" property=\"og:title\"/>\n",
       "<meta content=\"article\" property=\"og:type\"/>\n",
       "<meta content=\"https://www.holy-bhagavad-gita.org/chapter/1/verse/1/\" property=\"og:url\"/>\n",
       "<meta content=\"BG 1.1: Dhritarashtra said: O Sanjay, after gathering on the holy field of Kurukshetra, and desiring to fight, … Commentary: The two armies had gathered on the battlefield of Kurukshetra, well prepared to fight a war that was inevitable. Still, in this verse, King Dhritarashtra …\" property=\"og:description\"/>\n",
       "<!-- for Twitter -->\n",
       "<meta content=\"summary\" name=\"twitter:card\"/>\n",
       "<meta content=\"Chapter 1, Verse 1 – Bhagavad Gita, The Song of God – Swami Mukundananda\" name=\"twitter:title\"/>\n",
       "<meta content=\"BG 1.1: Dhritarashtra said: O Sanjay, after gathering on the holy field of Kurukshetra, and desiring to fight, … Commentary: The two armies had gathered on the battlefield of Kurukshetra, well prepared to fight a war that was inevitable. Still, in this verse, King Dhritarashtra …\" name=\"twitter:description\"/>\n",
       "<meta content=\"https://www.holy-bhagavad-gita.org/public/images/bg/1.jpg\" id=\"thumbnailUrl\" itemprop=\"thumbnailUrl\"/>\n",
       "<!-- for both Facebook & Twitter -->\n",
       "<meta content=\"https://www.holy-bhagavad-gita.org/public/images/bg/1.jpg?_=637803355129317918&amp;fbrefresh=637803355129317918\" name=\"twitter:image\"/>\n",
       "<meta content=\"https://www.holy-bhagavad-gita.org/public/images/bg/1.jpg?_=637803355129317918&amp;fbrefresh=637803355129317918\" property=\"og:image\"/>\n",
       "<link href=\"https://swamimukundananda.org/\" rel=\"author\"/>\n",
       "<link href=\"/public/stylesheets/main.css?v=1\" rel=\"stylesheet\" type=\"text/css\"/>\n",
       "<link href=\"/public/stylesheets/verse.css?v=2\" rel=\"stylesheet\"/>\n",
       "<script src=\"//ajax.googleapis.com/ajax/libs/jquery/1.10.2/jquery.min.js\" type=\"text/javascript\"></script>\n",
       "<script async=\"\" src=\"https://cse.google.com/cse.js?cx=ffcc80667c3ddcfd2\"></script>\n",
       "<link href=\"/public/images/favicon.png?v=1\" rel=\"shortcut icon\" type=\"image/png\"/>\n",
       "</meta></meta></head>\n",
       "<body>\n",
       "<div id=\"fb-root\"></div>\n",
       "<header id=\"header\">\n",
       "<div class=\"headerWrapper\">\n",
       "<div class=\"headerContent clearfix\">\n",
       "<div class=\"logo-items\">\n",
       "<div class=\"logo\">\n",
       "<a href=\"/\"><img src=\"/public/images/bg_logo_pic.png\"/></a>\n",
       "</div>\n",
       "<div class=\"logo logoText\">\n",
       "<a href=\"/\">Bhagavad Gita <span class=\"bookTitleExt\">The Song of God</span></a>\n",
       "<div class=\"tagLine\">\n",
       "                        Commentary by <a class=\"authorLink\" href=\"http://swamimukundananda.org/\" id=\"author\" itemprop=\"author\" rel=\"author\" target=\"_blank\">Swami Mukundananda</a>\n",
       "</div>\n",
       "</div>\n",
       "</div>\n",
       "<div class=\"GoogleSearchContainer\">\n",
       "<table height=\"100%\" width=\"100%\">\n",
       "<tr>\n",
       "<td class=\"search-text\">Search this site: </td>\n",
       "<td class=\"search-box\"><div class=\"gcse-search\"></div></td>\n",
       "<td>\n",
       "<nav id=\"nav\">\n",
       "<ul>\n",
       "<li><a href=\"/index\">Index</a></li>\n",
       "<li>\n",
       "<a href=\"/about\">About</a>\n",
       "<ul>\n",
       "<li><a href=\"https://www.holy-bhagavad-gita.org/about/jagadguru-shree-kripaluji-maharaj\">Jagadguru Shree Kripalu ji Maharaj</a></li>\n",
       "<li><a href=\"https://www.holy-bhagavad-gita.org/about/swami-mukundananda\">Swami Mukundananda</a></li>\n",
       "</ul>\n",
       "</li>\n",
       "</ul>\n",
       "</nav>\n",
       "</td>\n",
       "</tr>\n",
       "</table>\n",
       "</div>\n",
       "</div>\n",
       "</div>\n",
       "</header>\n",
       "<div class=\"container\" id=\"wrapper\">\n",
       "<div class=\"mainSection\">\n",
       "<div class=\"mainContent\" itemref=\"author publisher copyrightYear copyrightHolder thumbnail inLanguage\" itemscope=\"\" itemtype=\"http://schema.org/ScholarlyArticle\">\n",
       "<meta content=\"Chapter &lt;&lt;CH NUM&gt;&gt; \" itemprop=\"articleSection\"/>\n",
       "<div class=\"breadcrumb\" id=\"breadcrumb\">\n",
       "<span prefix=\"v: http://rdf.data-vocabulary.org/#\">\n",
       "<span typeof=\"v:Breadcrumb\"><a href=\"/\" property=\"v:title\" rel=\"v:url\">Home</a></span>\n",
       "<span class=\"sep\">&gt;</span> <span typeof=\"v:Breadcrumb\"><a href=\"/Index\" property=\"v:title\" rel=\"v:url\">Index</a></span>\n",
       "<span class=\"sep\">&gt;</span> <span typeof=\"v:Breadcrumb\"><a href=\"/chapter/1\" property=\"v:title\" rel=\"v:url\">Chapter 1 : Arjun Viṣhād Yog</a></span>\n",
       "<span class=\"sep\">&gt;</span> <span typeof=\"v:Breadcrumb\"><span class=\"breadcrumb_last\" property=\"v:title\">Verse 1</span></span>\n",
       "</span>\n",
       "<div align=\"right\">\n",
       "<a href=\"https://www.holy-bhagavad-gita.org/chapter/1/verse/1/\">English  |</a>\n",
       "<a href=\"https://www.holy-bhagavad-gita.org/chapter/1/verse/1//hi\">हिंदी | </a>\n",
       "<a href=\"https://www.holy-bhagavad-gita.org/chapter/1/verse/1//te\">తెలుగు | </a>\n",
       "<a href=\"https://www.holy-bhagavad-gita.org/chapter/1/verse/1//or\">ଓଡ଼ିଆ  | </a>\n",
       "</div>\n",
       "</div>\n",
       "<article class=\"article\">\n",
       "<h1 class=\"headingBg\" itemprop=\"name\">Bhagavad Gita: Chapter 1, Verse 1</h1>\n",
       "<div class=\"social\">\n",
       "<div class=\"fbLikeHolder\">\n",
       "<div class=\"fb-like\" data-action=\"like\" data-href=\"https://www.holy-bhagavad-gita.org/chapter/1/verse/1/\" data-layout=\"button_count\" data-share=\"true\" data-show-faces=\"true\" data-width=\"100\"></div>\n",
       "</div>\n",
       "<div class=\"twitterShareHolder\">\n",
       "<a class=\"twitter-share-button\" data-lang=\"en\" data-text=\"\" href=\"https://www.holy-bhagavad-gita.org/chapter/1/verse/1/\"></a>\n",
       "</div>\n",
       "<div class=\"gPlusHolder\">\n",
       "<div class=\"g-plusone\" data-size=\"medium\"></div>\n",
       "</div>\n",
       "</div>\n",
       "<div itemprop=\"articleBody\">\n",
       "<div class=\"verseMain\">\n",
       "<div id=\"originalVerse\" lang=\"sa\">\n",
       "<p>धृतराष्ट्र उवाच |<br/>धर्मक्षेत्रे कुरुक्षेत्रे समवेता युयुत्सवः |<br/>मामकाः पाण्डवाश्चैव किमकुर्वत सञ्जय ||1||</p>\n",
       "</div>\n",
       "<div id=\"transliteration\">\n",
       "<p>dhṛitarāśhtra uvācha<br/> dharma-kṣhetre kuru-kṣhetre samavetā yuyutsavaḥ<br/> māmakāḥ pāṇḍavāśhchaiva kimakurvata sañjaya</p>\n",
       "</div>\n",
       "<div align=\"center\" id=\"verseAudio\">\n",
       "<audio controls=\"\" controlslist=\"nodownload\" src=\"/public/audio/001_001.mp3\">\n",
       "                                Your browser does not support the HTML5 Audio element.\n",
       "                            </audio>\n",
       "</div>\n",
       "<div id=\"wordMeanings\">\n",
       "<a class=\"word\" href=\"/w/dhritarashtrah%20uvacha\">dhṛitarāśhtraḥ uvācha</a>—<span class=\"meaning\">Dhritarashtra said</span>; <a class=\"word\" href=\"/w/dharma-kshetre\">dharma-kṣhetre</a>—<span class=\"meaning\">the land of dharma</span>; <a class=\"word\" href=\"/w/kuru-kshetre\">kuru-kṣhetre</a>—<span class=\"meaning\">at Kurukshetra</span>; <a class=\"word\" href=\"/w/samavetah\">samavetāḥ</a>—<span class=\"meaning\">having gathered</span>; <a class=\"word\" href=\"/w/yuyutsavah\">yuyutsavaḥ</a>—<span class=\"meaning\">desiring to fight</span>; <a class=\"word\" href=\"/w/mamakah\">māmakāḥ</a>—<span class=\"meaning\">my sons</span>; <a class=\"word\" href=\"/w/pandavah\">pāṇḍavāḥ</a>—<span class=\"meaning\">the sons of Pandu</span>; <a class=\"word\" href=\"/w/cha\">cha</a>—<span class=\"meaning\">and</span>; <a class=\"word\" href=\"/w/eva\">eva</a>—<span class=\"meaning\">certainly</span>; <a class=\"word\" href=\"/w/kim\">kim</a>—<span class=\"meaning\">what</span>; <a class=\"word\" href=\"/w/akurvata\">akurvata</a>—<span class=\"meaning\">did they do</span>; <a class=\"word\" href=\"/w/sanjaya\">sañjaya</a>—<span class=\"meaning\">Sanjay</span>\n",
       "</div>\n",
       "<div align=\"center\" id=\"transliteration_wo_dia\">\n",
       "<p>dhritarashtra uvacha<br/> dharma-kshetre kuru-kshetre samaveta yuyutsavah<br/> mamakah pandavashchaiva kimakurvata sanjaya</p>\n",
       "</div>\n",
       "</div>\n",
       "<h2 class=\"headingBg2\">Translation</h2>\n",
       "<div id=\"translation\">\n",
       "<p>\n",
       "<span class=\"verseShort\"><u>BG 1.1</u>:</span>\n",
       "                            Dhritarashtra said: O Sanjay, after gathering on the holy field of Kurukshetra, and desiring to fight, what did my sons and the sons of Pandu do? \n",
       "                        </p>\n",
       "</div>\n",
       "<h2 class=\"headingBg2\">Commentary</h2>\n",
       "<div id=\"commentary\">\n",
       "<p>The two armies had gathered on the battlefield of Kurukshetra, well prepared to fight a war that was inevitable. Still, in this verse, King Dhritarashtra asked Sanjay, what his sons and his brother Pandu’s sons were doing on the battlefield? It was apparent that they would fight, then why did he ask such a question?</p><p>The blind King Dhritarashtra’s fondness for his own sons had clouded his spiritual wisdom and deviated him from the path of virtue. He had usurped the kingdom of Hastinapur from the rightful heirs; the Pandavas, sons of his brother Pandu. Feeling guilty of the injustice he had done towards his nephews, his conscience worried him about the outcome of this battle.</p><p>The words <em>dharma </em><em>kṣhetre</em>, the land of dharma<em> </em>(virtuous conduct) used by Dhritarashtra depict the dilemma he was experiencing.  Kurukshetra is described as <em>kurukṣhetraṁ deva yajanam</em> in the Shatapath Brahman, the Vedic textbook detailing rituals. It means “Kurukshetra is the sacrificial arena of the celestial gods.” Hence, it was regarded as the sacred land that nourished dharma. </p><p>Dhritarashtra feared that the holy land might influence the minds of his sons. If it aroused the faculty of discrimination, they might turn away from killing their cousins and negotiate a truce. A peaceful settlement meant that the Pandavas would continue being a hindrance for them. He felt great displeasure at these possibilities, instead preferred that this war transpires. He was uncertain of the consequences of the war, yet desired to determine the fate of his sons. Therefore, he asked Sanjay about the activities of the two armies on the battleground.</p>\n",
       "</div>\n",
       "</div>\n",
       "</article>\n",
       "<div class=\"clearfix\" id=\"prevNextNav\">\n",
       "<a class=\"next\" href=\"/chapter/1/verse/2\">Next →</a> </div>\n",
       "<!-- if ((at)Request.Url.LocalPath.ToString() != \"/about/swami-mukundananda\") -->\n",
       "<div class=\"screen footer\">\n",
       "<div id=\"copyright\">To share feedback or volunteer for this project, write to : \"d i v a k a r (at) jkyog (dot) in\" </div>\n",
       "<div id=\"copyright\">© 2014, Bhagavad Gita - The Song of God, by Swami Mukundananda</div>\n",
       "<div id=\"copyright\">This site content is protected by US, Indian and International copyright laws. Unauthorized copy, reproduction,  distribution and/or transmission is strictly prohibited. </div>\n",
       "</div>\n",
       "<!-- else\n",
       "{\n",
       "\n",
       "<link rel=\"stylesheet\" href=\"~/public/stylesheets/popup.css\" />\n",
       "<script src=\"http://code.jquery.com/jquery-3.3.1.min.js\"></script>\n",
       "<script src=\"~/public/javascripts/list-builder.js\"></script>\n",
       "\n",
       "<div class=\"screen footer\">\n",
       "    <div id=\"copyright\">To share feedback or volunteer for this project, write to : \"d i v a k a r (at) jkyog (dot) in\" </div>\n",
       "    <div id=\"copyright\">&copy; 2014, Bhagavad Gita - The Song of God, by Swami Mukundananda.</div>\n",
       "    <div id=\"copyright\">This site content is protected by US, Indian and International copyright laws. Unauthorized copy, reproduction,  distribution and/or transmission is strictly prohibited. </div>\n",
       " </div>\n",
       "\n",
       "\n",
       "<div id=\"list-builder\"> </div>\n",
       "\n",
       "<div id=\"popup-box\">\n",
       "    <img src=\"~/public/images/close.png\" id=\"popup-close\" />\n",
       "    <button id=\"pop-return\" name=\"returntoBG\">Return to Bhagavad Gita</button>\n",
       "    <div id=\"popup-box-section1\">\n",
       "        <img src=\"~/public/images/popup/Background-popup-2.jpg\" style=\"width:100%;\">\n",
       "        <div class=\"top-left\">BHAGAVAD GITA AUDIO LECTURES</div>\n",
       "        <form action=\"/Home/Signup\" class=\"form-top-left\" id=\"popup-form\" method=\"post\">\n",
       "\n",
       "            <p id=\"sign-up-text\"> Sign-up to receive free audio lectures of the Bhagavad Gita in English and guidelines to help put them in your life!</p>\n",
       "            <input id=\"pop-input\" type=\"text\" name=\"popFullName\" placeholder=\"Full Name\" />\n",
       "            <input id=\"pop-input\" type=\"text\" name=\"popEmail\" placeholder=\"Email\" />\n",
       "            <br />\n",
       "            <button id=\"pop-button\" type=\"submit\" name=\"Signup\">Sign Up</button>\n",
       "            <p id=\"signupStatus\"></p>\n",
       "            comment line <input type=\"hidden\" name=\"list\" value=\"key_list_etc\" /> \n",
       "        </form>\n",
       "    </div>\n",
       "</div>\n",
       "} -->\n",
       "</div>\n",
       "</div>\n",
       "<aside class=\"rsbSection\">\n",
       "<div class=\"rsbContent\">\n",
       "<img alt=\"Bhagavad Gita by Swami Mukundananda, Chapter Arjun Viṣhād Yog\" class=\"coverImg\" src=\"/public/images/bg/1.jpg\"/>\n",
       "<h4 class=\"chapterTitle\">1. Arjun Viṣhād Yog</h4>\n",
       "<div class=\"chapterNav\">\n",
       "<div class=\"prevArrow\">\n",
       "<a class=\"prev\" href=\"javascript:;\">«</a>\n",
       "</div>\n",
       "<div class=\"cur\">\n",
       "<a class=\"next\" href=\"/chapter/1\">Chapter 1</a>\n",
       "</div>\n",
       "<div class=\"nextArrow\">\n",
       "<a class=\"next\" href=\"/chapter/2\">»</a>\n",
       "</div>\n",
       "</div>\n",
       "<div class=\"verseNav\">\n",
       "<div class=\"prevArrow\">\n",
       "<a class=\"prev\" href=\"javascript:;\">«</a>\n",
       "</div>\n",
       "<div class=\"cur\">\n",
       "<a href=\"javascript:;\">Verse 1</a>\n",
       "</div>\n",
       "<div class=\"nextArrow\">\n",
       "<a class=\"next\" href=\"/chapter/1/verse/2\">»</a>\n",
       "</div>\n",
       "</div>\n",
       "<div class=\"verseTable clearfix\">\n",
       "<span class=\"verseSmall\">\n",
       "<a class=\"current\" href=\"/chapter/1/verse/1\"> 1</a>\n",
       "</span>\n",
       "<span class=\"verseSmall\">\n",
       "<a href=\"/chapter/1/verse/2\"> 2</a>\n",
       "</span>\n",
       "<span class=\"verseSmall\">\n",
       "<a href=\"/chapter/1/verse/3\"> 3</a>\n",
       "</span>\n",
       "<span class=\"verseSmall\">\n",
       "<a href=\"/chapter/1/verse/4\"> 4</a>\n",
       "</span>\n",
       "<span class=\"verseSmall\">\n",
       "<a href=\"/chapter/1/verse/5\"> 5</a>\n",
       "</span>\n",
       "<span class=\"verseSmall\">\n",
       "<a href=\"/chapter/1/verse/6\"> 6</a>\n",
       "</span>\n",
       "<span class=\"verseSmall\">\n",
       "<a href=\"/chapter/1/verse/7\"> 7</a>\n",
       "</span>\n",
       "<span class=\"verseSmall\">\n",
       "<a href=\"/chapter/1/verse/8\"> 8</a>\n",
       "</span>\n",
       "<span class=\"verseSmall\">\n",
       "<a href=\"/chapter/1/verse/9\"> 9</a>\n",
       "</span>\n",
       "<span class=\"verseSmall\">\n",
       "<a href=\"/chapter/1/verse/10\"> 10</a>\n",
       "</span>\n",
       "<span class=\"verseSmall\">\n",
       "<a href=\"/chapter/1/verse/11\"> 11</a>\n",
       "</span>\n",
       "<span class=\"verseSmall\">\n",
       "<a href=\"/chapter/1/verse/12\"> 12</a>\n",
       "</span>\n",
       "<span class=\"verseSmall\">\n",
       "<a href=\"/chapter/1/verse/13\"> 13</a>\n",
       "</span>\n",
       "<span class=\"verseSmall\">\n",
       "<a href=\"/chapter/1/verse/14\"> 14</a>\n",
       "</span>\n",
       "<span class=\"verseSmall\">\n",
       "<a href=\"/chapter/1/verse/15\"> 15</a>\n",
       "</span>\n",
       "<span class=\"verseSmall\">\n",
       "<a href=\"/chapter/1/verse/16\"> 16</a>\n",
       "</span>\n",
       "<span class=\"verseSmall\">\n",
       "<a href=\"/chapter/1/verse/17\"> 17</a>\n",
       "</span>\n",
       "<span class=\"verseSmall\">\n",
       "<a href=\"/chapter/1/verse/18\"> 18</a>\n",
       "</span>\n",
       "<span class=\"verseSmall\">\n",
       "<a href=\"/chapter/1/verse/19\"> 19</a>\n",
       "</span>\n",
       "<span class=\"verseSmall\">\n",
       "<a href=\"/chapter/1/verse/20\"> 20</a>\n",
       "</span>\n",
       "<span class=\"verseSmall\">\n",
       "<a href=\"/chapter/1/verse/21\"> 21</a>\n",
       "</span>\n",
       "<span class=\"verseSmall\">\n",
       "<a href=\"/chapter/1/verse/22\"> 22</a>\n",
       "</span>\n",
       "<span class=\"verseSmall\">\n",
       "<a href=\"/chapter/1/verse/23\"> 23</a>\n",
       "</span>\n",
       "<span class=\"verseSmall\">\n",
       "<a href=\"/chapter/1/verse/24\"> 24</a>\n",
       "</span>\n",
       "<span class=\"verseSmall\">\n",
       "<a href=\"/chapter/1/verse/25\"> 25</a>\n",
       "</span>\n",
       "<span class=\"verseSmall\">\n",
       "<a href=\"/chapter/1/verse/26\"> 26</a>\n",
       "</span>\n",
       "<span class=\"verseSmall\">\n",
       "<a href=\"/chapter/1/verse/27\"> 27</a>\n",
       "</span>\n",
       "<span class=\"verseSmall\">\n",
       "<a href=\"/chapter/1/verse/28\"> 28</a>\n",
       "</span>\n",
       "<span class=\"verseSmall\">\n",
       "<a href=\"/chapter/1/verse/29\"> 29</a>\n",
       "</span>\n",
       "<span class=\"verseSmall\">\n",
       "<a href=\"/chapter/1/verse/30\"> 30</a>\n",
       "</span>\n",
       "<span class=\"verseSmall\">\n",
       "<a href=\"/chapter/1/verse/31\"> 31</a>\n",
       "</span>\n",
       "<span class=\"verseSmall\">\n",
       "<a href=\"/chapter/1/verse/32\"> 32</a>\n",
       "</span>\n",
       "<span class=\"verseSmall\">\n",
       "<a href=\"/chapter/1/verse/33\"> 33</a>\n",
       "</span>\n",
       "<span class=\"verseSmall\">\n",
       "<a href=\"/chapter/1/verse/34\"> 34</a>\n",
       "</span>\n",
       "<span class=\"verseSmall\">\n",
       "<a href=\"/chapter/1/verse/35\"> 35</a>\n",
       "</span>\n",
       "<span class=\"verseSmall\">\n",
       "<a href=\"/chapter/1/verse/36\"> 36</a>\n",
       "</span>\n",
       "<span class=\"verseSmall\">\n",
       "<a href=\"/chapter/1/verse/37\"> 37</a>\n",
       "</span>\n",
       "<span class=\"verseSmall\">\n",
       "<a href=\"/chapter/1/verse/38\"> 38</a>\n",
       "</span>\n",
       "<span class=\"verseSmall\">\n",
       "<a href=\"/chapter/1/verse/39\"> 39</a>\n",
       "</span>\n",
       "<span class=\"verseSmall\">\n",
       "<a href=\"/chapter/1/verse/40\"> 40</a>\n",
       "</span>\n",
       "<span class=\"verseSmall\">\n",
       "<a href=\"/chapter/1/verse/41\"> 41</a>\n",
       "</span>\n",
       "<span class=\"verseSmall\">\n",
       "<a href=\"/chapter/1/verse/42\"> 42</a>\n",
       "</span>\n",
       "<span class=\"verseSmall\">\n",
       "<a href=\"/chapter/1/verse/43\"> 43</a>\n",
       "</span>\n",
       "<span class=\"verseSmall\">\n",
       "<a href=\"/chapter/1/verse/44\"> 44</a>\n",
       "</span>\n",
       "<span class=\"verseSmall\">\n",
       "<a href=\"/chapter/1/verse/45\"> 45</a>\n",
       "</span>\n",
       "<span class=\"verseSmall\">\n",
       "<a href=\"/chapter/1/verse/46\"> 46</a>\n",
       "</span>\n",
       "<span class=\"verseSmall\">\n",
       "<a href=\"/chapter/1/verse/47\"> 47</a>\n",
       "</span>\n",
       "</div>\n",
       "</div>\n",
       "<div class=\"rsbContent\">\n",
       "<script src=\"https://ajax.googleapis.com/ajax/libs/jquery/3.2.1/jquery.min.js\"></script>\n",
       "<script>\n",
       "        $(document).ready(function () {\n",
       "            $(\"#txtInput\").on(\"keyup\", function () {\n",
       "                var t = (ValidCaptcha());\n",
       "                {\n",
       "                    document.getElementById(\"myBtn\").disabled = true;\n",
       "                }\n",
       "                if (t == true) {\n",
       "                    document.getElementById(\"myBtn\").disabled = false;\n",
       "                }\n",
       "\n",
       "            });\n",
       "        });\n",
       "        //Created / Generates the captcha function\n",
       "        function DrawCaptcha() {\n",
       "            var a = Math.ceil(Math.random() * 9) + '';\n",
       "            var b = Math.ceil(Math.random() * 9) + '';\n",
       "            var c = Math.ceil(Math.random() * 9) + '';\n",
       "            var d = Math.ceil(Math.random() * 9) + '';\n",
       "            var e = Math.ceil(Math.random() * 9) + '';\n",
       "            var f = Math.ceil(Math.random() * 9) + '';\n",
       "            var g = Math.ceil(Math.random() * 9) + '';\n",
       "            var code = a + ' ' + b + ' ' + ' ' + c + ' ' + d; // + ' ' + e + ' '+ f + ' ' + g;\n",
       "            document.getElementById(\"txtCaptcha\").value = code\n",
       "            document.getElementById(\"txtCaptcha\").disabled = true;\n",
       "            document.getElementById(\"myBtn\").disabled = true;\n",
       "        }\n",
       "\n",
       "        // Validate the Entered input aganist the generated security code function\n",
       "        function ValidCaptcha() {\n",
       "            var str1 = removeSpaces(document.getElementById('txtCaptcha').value);\n",
       "            var str2 = document.getElementById('txtInput').value;\n",
       "            if (str1 == str2) return true;\n",
       "            return false;\n",
       "\n",
       "        }\n",
       "\n",
       "        // Remove the spaces from the entered and generated code\n",
       "        function removeSpaces(string) {\n",
       "            return string.split(' ').join('');\n",
       "        }\n",
       "    </script>\n",
       "<img onerror=\"DrawCaptcha();\" src=\"\"/>\n",
       "<div class=\"subscribe\">\n",
       "<h5>Subscribe by email</h5>\n",
       "<p class=\"subscribeDesc\">Start your day with a nugget of timeless inspiring wisdom from the <b>Holy Bhagavad Gita</b> delivered straight to your email!</p>\n",
       "<div>\n",
       "<form action=\"/VoD/Subscribe\" id=\"subscribeForm\" method=\"post\">\n",
       "<p id=\"subscribeStatus\"></p>\n",
       "<p>\n",
       "<label for=\"vodName\">Full Name:</label>\n",
       "<input id=\"vodName\" name=\"fullName\" type=\"text\"/>\n",
       "</p>\n",
       "<p>\n",
       "<label for=\"vodEmail\">Email:</label>\n",
       "<input id=\"vodEmail\" name=\"email\" type=\"text\"/>\n",
       "</p>\n",
       "<input name=\"sourceDetails\" type=\"hidden\" value=\"https://www.holy-bhagavad-gita.org/chapter/1/verse/1/\"/>\n",
       "<input name=\"emailList\" type=\"hidden\" value=\"VERSE_OF_DAY\"/>\n",
       "<input id=\"txtCaptcha\" style=\"border:none;\" type=\"text\">\n",
       "<p>type above digits here: <input id=\"txtInput\" name=\"Captcha\" type=\"text\"> </input></p>\n",
       "<input id=\"btnrefresh\" onclick=\"DrawCaptcha();\" type=\"hidden\" value=\"Refresh\">\n",
       "<input class=\"btn\" id=\"myBtn\" type=\"submit\" value=\"Subscribe\"/>\n",
       "</input></input></form>\n",
       "</div>\n",
       "</div>\n",
       "<p></p>\n",
       "<p>Click below to join WhatsApp groups</p>\n",
       "<p> <a href=\"https://chat.whatsapp.com/HCaIKot1xuV1kmOsC6Kgee\" target=\"_blank\">Verse of the Day -English -WhatsApp</a> </p>\n",
       "<p> <a href=\"https://chat.whatsapp.com/Fj3s2uJ4eVFH37kHM3FLv1\" target=\"_blank\">Verse of the Day -Telugu -WhatsApp</a> </p>\n",
       "<p> <a href=\"https://chat.whatsapp.com/ETbdvjV41Hd9k8pnH6eMJ0\" target=\"_blank\">Gita Study -English -WhatsApp</a> </p>\n",
       "</div>\n",
       "<div class=\"rsbContent\">\n",
       "<div class=\"fbLikeBoxHolder\">\n",
       "<div class=\"socialHolder\">\n",
       "<div class=\"fbLikeBoxHolder\">\n",
       "<a href=\"https://amzn.to/3HPTohR\" target=\"_blank\"> <img alt=\"Bhagavad Gita The Song of God New Book By Swami Mukundananda\" srcset=\"/public/images/vod/Bhagavad-Gita-The-Song-of-God-New-Book-By-Swami-Mukundananda.jpg 5.8x\" style=\"text-align:center;\"/> </a>\n",
       "<a href=\"https://www.jkyog.in/online-sessions/\" target=\"_blank\"> <img alt=\"JKYog India Online Sessions\" src=\"/public/images/jky-india-online-sessions.jpg\" style=\"text-align:center;\"/> </a>\n",
       "<a href=\"https://www.jkyog.org/online_events\" target=\"_blank\"> <img alt=\"JKYog Online Events\" src=\"/public/images/JKYog-online-sessions.jpg\"/> </a>\n",
       "<a href=\"https://www.radhakrishnatemple.net/PYC\" target=\"_blank\"> <img alt=\"JKYog Online Yoga\" src=\"/public/images/JKYog-online-yoga.jpg\"/> </a>\n",
       "<a href=\"https://www.radhakrishnatemple.net/BhagavadGita\" target=\"_blank\"> <img alt=\"RKT Daily Wisdom From Bhagavad Gita\" src=\"/public/images/rkt-logo.png\"/> </a>\n",
       "<a href=\"https://www.jkyog.in/events/\" target=\"_blank\"> <img alt=\"Swami Mukundananda India Tour 2021 2022\" srcset=\"/public/images/vod/jkyog-swami-mukundananda-india-2021-2022.jpeg 9.1x\" style=\"text-align:center;\"/> </a>\n",
       "<a href=\"https://www.youtube.com/channel/UCiz3Y5hL5YzhfeSf-6j43gg\" target=\"_blank\"> <img alt=\"Gita Gyan YouTube\" src=\"/public/images/gita-gyan-yagna.jpg\"/> </a>\n",
       "<p class=\"buy\"><a href=\"https://rgdham.org/shop/books/hindi/bhagavad-gita-the-song-of-god-hindi/\" target=\"_blank\">Buy a Hindi copy online (India)</a></p>\n",
       "<p class=\"buy\"><a href=\"https://www.jkyog.org/store/product/bhagavad-gita-telugu\" target=\"_blank\">Buy a Telugu copy online (US)</a></p>\n",
       "<p class=\"buy\"><a href=\"https://www.rgdham.org/shop/books/bhagavad-gita-the-song-of-god-telugu/\" target=\"_blank\">Buy a Telugu copy online (India)</a></p>\n",
       "<div class=\"fb-like-box\" data-colorscheme=\"light\" data-header=\"true\" data-height=\"300\" data-href=\"https://www.facebook.com/BhagavadGitabySwamiMukundananda\" data-show-border=\"true\" data-show-faces=\"true\" data-stream=\"false\" id=\"fbLikeBox\"></div>\n",
       "</div>\n",
       "<div class=\"smFollow\">\n",
       "<h6>Follow Swami Mukundananda</h6>\n",
       "<div class=\"clearfix\">\n",
       "<img class=\"smIcon\" src=\"/public/images/swami_mukundananda_icon.jpg\"/>\n",
       "<div class=\"socialLinksHolder\">\n",
       "<ul class=\"socialLinks\">\n",
       "<li>\n",
       "<div class=\"fb-like\" data-action=\"like\" data-href=\"https://www.facebook.com/Swami.Mukundananda\" data-layout=\"button_count\" data-share=\"false\" data-show-faces=\"false\"></div>\n",
       "</li>\n",
       "<li>\n",
       "<a class=\"twitter-follow-button\" data-lang=\"en\" data-show-count=\"false\" data-show-screen-name=\"false\" href=\"https://twitter.com/sw_mukundananda\" target=\"_new\">Follow @Swami_Mukund</a>\n",
       "</li>\n",
       "</ul>\n",
       "</div>\n",
       "</div>\n",
       "<h6>Related Resources</h6>\n",
       "<table class=\"otherLinks\">\n",
       "<tbody>\n",
       "<tr>\n",
       "<td><img src=\"/public/images/link.png\"/></td>\n",
       "<td><a href=\"http://www.swamimukundananda.org\" target=\"_blank\">About Swamiji</a></td>\n",
       "</tr>\n",
       "<tr>\n",
       "<td><img src=\"/public/images/link.png\"/></td>\n",
       "<td><a href=\"https://www.jkyog.in/\" target=\"_blank\">JKYog India</a></td>\n",
       "</tr>\n",
       "<tr>\n",
       "<td><img src=\"/public/images/donate.png\"/></td>\n",
       "<td><a href=\"https://www.jkyog.in/donate/\" target=\"_blank\">Donate (India) </a></td>\n",
       "</tr>\n",
       "<tr>\n",
       "<td><img src=\"/public/images/link.png\"/></td>\n",
       "<td><a href=\"http://www.jkyog.org\" target=\"_blank\">JKYog USA</a></td>\n",
       "</tr>\n",
       "<tr>\n",
       "<td><img src=\"/public/images/link.png\"/></td>\n",
       "<td><a href=\"https://www.radhakrishnatemple.net/\" target=\"_blank\">Radha Krishna Temple of Dallas</a></td>\n",
       "</tr>\n",
       "<tr>\n",
       "<td><img src=\"/public/images/link.png\"/></td>\n",
       "<td><a href=\"http://www.jkyog.org/events\" target=\"_blank\">Swamiji's worldwide events</a></td>\n",
       "</tr>\n",
       "<tr>\n",
       "<td><img src=\"/public/images/link.png\"/></td>\n",
       "<td><a href=\"http://www.natural-cure.org/\" target=\"_blank\">JKY Naturopathy Hospital</a></td>\n",
       "</tr>\n",
       "<tr>\n",
       "<td><img src=\"/public/images/donate.png\"/></td>\n",
       "<td><a href=\"https://www.paypal.com/cgi-bin/webscr?cmd=_s-xclick&amp;hosted_button_id=QAR4M73EWY8HL\" target=\"_blank\">Donate</a></td>\n",
       "</tr>\n",
       "<tr>\n",
       "<td><img src=\"/public/images/link.png\"/></td>\n",
       "<td><a href=\"https://www.youtube.com/channel/UCiz3Y5hL5YzhfeSf-6j43gg\" target=\"_blank\">English-Gita-YouTube Channel</a></td>\n",
       "</tr>\n",
       "<tr>\n",
       "<td><img src=\"/public/images/link.png\"/></td>\n",
       "<td><a href=\"https://www.youtube.com/channel/UCHjP4rpEuAy2H8NQwA5ZxjQ\" target=\"_blank\">Tamil-Geethai-YouTube Channel</a></td>\n",
       "</tr>\n",
       "<tr>\n",
       "<td><img src=\"/public/images/link.png\"/></td>\n",
       "<td><a href=\"https://www.youtube.com/channel/UCyWXYryEPLguJa9vl7EoxTQ\" target=\"_blank\">Telugu-Gita-YouTube Channel</a></td>\n",
       "</tr>\n",
       "</tbody>\n",
       "</table>\n",
       "</div>\n",
       "</div>\n",
       "</div>\n",
       "</div></aside>\n",
       "</div>\n",
       "<footer class=\"mobile footer\">\n",
       "<div id=\"copyright\">To share feedback or volunteer for this project, write to : \"d i v a k a r (at) jkyog (dot) in\" </div>\n",
       "<div id=\"copyright\">© <span id=\"copyrightYear\" itemprop=\"copyrightYear\">2014</span>, <span id=\"copyrightHolder\" itemprop=\"copyrightHolder\">Bhagavad Gita - The Song of God, by Swami Mukundananda</span></div>\n",
       "<div id=\"copyright\">This site content is protected by US, Indian and International copyright laws. Unauthorized copy, reproduction,  distribution and/or transmission is strictly prohibited. </div>\n",
       "</footer>\n",
       "<!-- else\n",
       "{\n",
       "\n",
       "<link rel=\"stylesheet\" href=\"~/public/stylesheets/popup.css\" />\n",
       "<script src=\"http://code.jquery.com/jquery-3.3.1.min.js\"></script>\n",
       "<script src=\"~/public/javascripts/list-builder.js\"></script>\n",
       "\n",
       "<div class=\"screen footer\">\n",
       "    <div id=\"copyright\">To share feedback or volunteer for this project, write to : \"d i v a k a r (at) jkyog (dot) in\" </div>\n",
       "    <div id=\"copyright\">&copy; 2014, Bhagavad Gita - The Song of God, by Swami Mukundananda.</div>\n",
       "    <div id=\"copyright\">This site content is protected by US, Indian and International copyright laws. Unauthorized copy, reproduction,  distribution and/or transmission is strictly prohibited. </div>\n",
       " </div>\n",
       "\n",
       "\n",
       "<div id=\"list-builder\"> </div>\n",
       "\n",
       "<div id=\"popup-box\">\n",
       "    <img src=\"~/public/images/close.png\" id=\"popup-close\" />\n",
       "    <button id=\"pop-return\" name=\"returntoBG\">Return to Bhagavad Gita</button>\n",
       "    <div id=\"popup-box-section1\">\n",
       "        <img src=\"~/public/images/popup/Background-popup-2.jpg\" style=\"width:100%;\">\n",
       "        <div class=\"top-left\">BHAGAVAD GITA AUDIO LECTURES</div>\n",
       "        <form action=\"/Home/Signup\" class=\"form-top-left\" id=\"popup-form\" method=\"post\">\n",
       "\n",
       "            <p id=\"sign-up-text\"> Sign-up to receive free audio lectures of the Bhagavad Gita in English and guidelines to help put them in your life!</p>\n",
       "            <input id=\"pop-input\" type=\"text\" name=\"popFullName\" placeholder=\"Full Name\" />\n",
       "            <input id=\"pop-input\" type=\"text\" name=\"popEmail\" placeholder=\"Email\" />\n",
       "            <br />\n",
       "            <button id=\"pop-button\" type=\"submit\" name=\"Signup\">Sign Up</button>\n",
       "            <p id=\"signupStatus\"></p>\n",
       "            comment line <input type=\"hidden\" name=\"list\" value=\"key_list_etc\" /> \n",
       "        </form>\n",
       "    </div>\n",
       "</div>\n",
       "} -->\n",
       "<!--  <script type=\"text/javascript\" src=\"/public/javascripts/jquery.mobile.custom.min.js\"></script> -->\n",
       "<script async=\"\" defer=\"\" src=\"/public/javascripts/main.js\" type=\"text/javascript\"></script>\n",
       "<script async=\"\" defer=\"\" src=\"/public/javascripts/social.min.js\" type=\"text/javascript\"></script>\n",
       "<script>\n",
       "            (function (i, s, o, g, r, a, m) {\n",
       "            i['GoogleAnalyticsObject'] = r; i[r] = i[r] || function () {\n",
       "                (i[r].q = i[r].q || []).push(arguments)\n",
       "            }, i[r].l = 1 * new Date(); a = s.createElement(o),\n",
       "                m = s.getElementsByTagName(o)[0]; a.async = 1; a.src = g; m.parentNode.insertBefore(a, m)\n",
       "            })(window, document, 'script', '//www.google-analytics.com/analytics.js', 'ga');\n",
       "            ga('create', 'UA-53594487-1', 'auto');\n",
       "            ga('send', 'pageview');\n",
       "        </script>\n",
       "</body>\n",
       "</html>"
      ]
     },
     "execution_count": 106,
     "metadata": {},
     "output_type": "execute_result"
    }
   ],
   "source": [
    "soup"
   ]
  },
  {
   "cell_type": "code",
   "execution_count": 109,
   "id": "blank-seventh",
   "metadata": {},
   "outputs": [
    {
     "data": {
      "text/plain": [
       "'<title>Chapter 1, Verse 1 – Bhagavad Gita, The Song of God – Swami Mukundananda</title>'"
      ]
     },
     "execution_count": 109,
     "metadata": {},
     "output_type": "execute_result"
    }
   ],
   "source": [
    "m = str(soup.title)\n",
    "m"
   ]
  },
  {
   "cell_type": "code",
   "execution_count": 110,
   "id": "secure-alloy",
   "metadata": {},
   "outputs": [
    {
     "data": {
      "text/plain": [
       "'<title>Chapter 1, Verse 1 – Bhagavad Gita'"
      ]
     },
     "execution_count": 110,
     "metadata": {},
     "output_type": "execute_result"
    }
   ],
   "source": [
    "m2 = m.split(', The')[0]\n",
    "m2"
   ]
  },
  {
   "cell_type": "code",
   "execution_count": 111,
   "id": "funky-integrity",
   "metadata": {},
   "outputs": [
    {
     "data": {
      "text/plain": [
       "'Chapter 1, Verse 1 – Bhagavad Gita'"
      ]
     },
     "execution_count": 111,
     "metadata": {},
     "output_type": "execute_result"
    }
   ],
   "source": [
    "m3 = m2.replace('<title>','')\n",
    "m3"
   ]
  },
  {
   "cell_type": "code",
   "execution_count": null,
   "id": "expired-taylor",
   "metadata": {},
   "outputs": [],
   "source": []
  },
  {
   "cell_type": "code",
   "execution_count": null,
   "id": "valid-matrix",
   "metadata": {},
   "outputs": [],
   "source": []
  },
  {
   "cell_type": "code",
   "execution_count": 15,
   "id": "burning-bernard",
   "metadata": {},
   "outputs": [
    {
     "data": {
      "text/plain": [
       "<div align=\"center\" id=\"transliteration_wo_dia\">\n",
       "<p>dhritarashtra uvacha<br/> dharma-kshetre kuru-kshetre samaveta yuyutsavah<br/> mamakah pandavashchaiva kimakurvata sanjaya</p>\n",
       "</div>"
      ]
     },
     "execution_count": 15,
     "metadata": {},
     "output_type": "execute_result"
    }
   ],
   "source": [
    "soup.find(id='transliteration_wo_dia')"
   ]
  },
  {
   "cell_type": "code",
   "execution_count": 27,
   "id": "ambient-barrel",
   "metadata": {},
   "outputs": [
    {
     "data": {
      "text/plain": [
       "<p>dhritarashtra uvacha<br/> dharma-kshetre kuru-kshetre samaveta yuyutsavah<br/> mamakah pandavashchaiva kimakurvata sanjaya</p>"
      ]
     },
     "execution_count": 27,
     "metadata": {},
     "output_type": "execute_result"
    }
   ],
   "source": [
    "m = soup.find(id='transliteration_wo_dia').p\n",
    "m"
   ]
  },
  {
   "cell_type": "code",
   "execution_count": 28,
   "id": "invalid-mercy",
   "metadata": {},
   "outputs": [
    {
     "data": {
      "text/plain": [
       "'<p>dhritarashtra uvacha<br/> dharma-kshetre kuru-kshetre samaveta yuyutsavah<br/> mamakah pandavashchaiva kimakurvata sanjaya</p>'"
      ]
     },
     "execution_count": 28,
     "metadata": {},
     "output_type": "execute_result"
    }
   ],
   "source": [
    "t = str(m)\n",
    "t"
   ]
  },
  {
   "cell_type": "code",
   "execution_count": 29,
   "id": "affected-cholesterol",
   "metadata": {},
   "outputs": [
    {
     "data": {
      "text/plain": [
       "'<p>dhritarashtra uvacha\\n dharma-kshetre kuru-kshetre samaveta yuyutsavah\\n mamakah pandavashchaiva kimakurvata sanjaya</p>'"
      ]
     },
     "execution_count": 29,
     "metadata": {},
     "output_type": "execute_result"
    }
   ],
   "source": [
    "t2 = t.replace('<br/>','\\n')\n",
    "t2"
   ]
  },
  {
   "cell_type": "code",
   "execution_count": 68,
   "id": "guided-recording",
   "metadata": {},
   "outputs": [
    {
     "data": {
      "text/plain": [
       "'dhritarashtra uvacha\\n dharma-kshetre kuru-kshetre samaveta yuyutsavah\\n mamakah pandavashchaiva kimakurvata sanjaya'"
      ]
     },
     "execution_count": 68,
     "metadata": {},
     "output_type": "execute_result"
    }
   ],
   "source": [
    "t3 = t2.replace('<p>','').replace('</p>','')\n",
    "t3"
   ]
  },
  {
   "cell_type": "code",
   "execution_count": 33,
   "id": "twenty-alarm",
   "metadata": {},
   "outputs": [
    {
     "data": {
      "text/plain": [
       "'dhritarashtra uvacha\\n dharma-kshetre kuru-kshetre samaveta yuyutsavah\\n mamakah pandavashchaiva kimakurvata sanjaya>'"
      ]
     },
     "execution_count": 33,
     "metadata": {},
     "output_type": "execute_result"
    }
   ],
   "source": [
    "msg = t3\n",
    "msg"
   ]
  },
  {
   "cell_type": "markdown",
   "id": "minus-australian",
   "metadata": {},
   "source": [
    "#### Make this getting msg and cleaning a function"
   ]
  },
  {
   "cell_type": "markdown",
   "id": "utility-mailing",
   "metadata": {},
   "source": [
    "### Tring to sequentially get all the verses by looping"
   ]
  },
  {
   "cell_type": "code",
   "execution_count": 34,
   "id": "parallel-sarah",
   "metadata": {},
   "outputs": [
    {
     "data": {
      "text/html": [
       "<div>\n",
       "<style scoped>\n",
       "    .dataframe tbody tr th:only-of-type {\n",
       "        vertical-align: middle;\n",
       "    }\n",
       "\n",
       "    .dataframe tbody tr th {\n",
       "        vertical-align: top;\n",
       "    }\n",
       "\n",
       "    .dataframe thead th {\n",
       "        text-align: right;\n",
       "    }\n",
       "</style>\n",
       "<table border=\"1\" class=\"dataframe\">\n",
       "  <thead>\n",
       "    <tr style=\"text-align: right;\">\n",
       "      <th></th>\n",
       "      <th>Name</th>\n",
       "      <th>Number of Verses</th>\n",
       "    </tr>\n",
       "  </thead>\n",
       "  <tbody>\n",
       "    <tr>\n",
       "      <th>1</th>\n",
       "      <td>Arjuna's Vishada Yoga</td>\n",
       "      <td>47</td>\n",
       "    </tr>\n",
       "    <tr>\n",
       "      <th>2</th>\n",
       "      <td>Sankhya Yoga</td>\n",
       "      <td>72</td>\n",
       "    </tr>\n",
       "    <tr>\n",
       "      <th>3</th>\n",
       "      <td>Karma Yoga</td>\n",
       "      <td>43</td>\n",
       "    </tr>\n",
       "    <tr>\n",
       "      <th>4</th>\n",
       "      <td>Jnana-Karma-Sanyasa Yoga</td>\n",
       "      <td>42</td>\n",
       "    </tr>\n",
       "    <tr>\n",
       "      <th>5</th>\n",
       "      <td>Karma-Sanyasa Yoga</td>\n",
       "      <td>29</td>\n",
       "    </tr>\n",
       "  </tbody>\n",
       "</table>\n",
       "</div>"
      ],
      "text/plain": [
       "                       Name Number of Verses\n",
       "1     Arjuna's Vishada Yoga               47\n",
       "2              Sankhya Yoga               72\n",
       "3                Karma Yoga               43\n",
       "4  Jnana-Karma-Sanyasa Yoga               42\n",
       "5        Karma-Sanyasa Yoga               29"
      ]
     },
     "execution_count": 34,
     "metadata": {},
     "output_type": "execute_result"
    }
   ],
   "source": [
    "df.head()"
   ]
  },
  {
   "cell_type": "code",
   "execution_count": 38,
   "id": "uniform-switzerland",
   "metadata": {},
   "outputs": [],
   "source": [
    "df = df.reset_index()"
   ]
  },
  {
   "cell_type": "code",
   "execution_count": 39,
   "id": "female-cotton",
   "metadata": {},
   "outputs": [
    {
     "data": {
      "text/plain": [
       "['index', 'Name', 'Number of Verses']"
      ]
     },
     "execution_count": 39,
     "metadata": {},
     "output_type": "execute_result"
    }
   ],
   "source": [
    "col = df.columns.to_list()\n",
    "col"
   ]
  },
  {
   "cell_type": "code",
   "execution_count": 40,
   "id": "reasonable-prototype",
   "metadata": {},
   "outputs": [],
   "source": [
    "col = ['Number','Name','Verse Count']"
   ]
  },
  {
   "cell_type": "code",
   "execution_count": 41,
   "id": "analyzed-uncle",
   "metadata": {},
   "outputs": [],
   "source": [
    "df.columns = col"
   ]
  },
  {
   "cell_type": "code",
   "execution_count": 57,
   "id": "ranging-manufacturer",
   "metadata": {},
   "outputs": [],
   "source": [
    "df['Number']=df['Number'].astype(int)"
   ]
  },
  {
   "cell_type": "code",
   "execution_count": 58,
   "id": "crazy-composer",
   "metadata": {},
   "outputs": [
    {
     "data": {
      "text/html": [
       "<div>\n",
       "<style scoped>\n",
       "    .dataframe tbody tr th:only-of-type {\n",
       "        vertical-align: middle;\n",
       "    }\n",
       "\n",
       "    .dataframe tbody tr th {\n",
       "        vertical-align: top;\n",
       "    }\n",
       "\n",
       "    .dataframe thead th {\n",
       "        text-align: right;\n",
       "    }\n",
       "</style>\n",
       "<table border=\"1\" class=\"dataframe\">\n",
       "  <thead>\n",
       "    <tr style=\"text-align: right;\">\n",
       "      <th></th>\n",
       "      <th>Number</th>\n",
       "      <th>Name</th>\n",
       "      <th>Verse Count</th>\n",
       "    </tr>\n",
       "  </thead>\n",
       "  <tbody>\n",
       "    <tr>\n",
       "      <th>0</th>\n",
       "      <td>1</td>\n",
       "      <td>Arjuna's Vishada Yoga</td>\n",
       "      <td>47</td>\n",
       "    </tr>\n",
       "    <tr>\n",
       "      <th>1</th>\n",
       "      <td>2</td>\n",
       "      <td>Sankhya Yoga</td>\n",
       "      <td>72</td>\n",
       "    </tr>\n",
       "    <tr>\n",
       "      <th>2</th>\n",
       "      <td>3</td>\n",
       "      <td>Karma Yoga</td>\n",
       "      <td>43</td>\n",
       "    </tr>\n",
       "    <tr>\n",
       "      <th>3</th>\n",
       "      <td>4</td>\n",
       "      <td>Jnana-Karma-Sanyasa Yoga</td>\n",
       "      <td>42</td>\n",
       "    </tr>\n",
       "    <tr>\n",
       "      <th>4</th>\n",
       "      <td>5</td>\n",
       "      <td>Karma-Sanyasa Yoga</td>\n",
       "      <td>29</td>\n",
       "    </tr>\n",
       "  </tbody>\n",
       "</table>\n",
       "</div>"
      ],
      "text/plain": [
       "   Number                      Name Verse Count\n",
       "0       1     Arjuna's Vishada Yoga          47\n",
       "1       2              Sankhya Yoga          72\n",
       "2       3                Karma Yoga          43\n",
       "3       4  Jnana-Karma-Sanyasa Yoga          42\n",
       "4       5        Karma-Sanyasa Yoga          29"
      ]
     },
     "execution_count": 58,
     "metadata": {},
     "output_type": "execute_result"
    }
   ],
   "source": [
    "df.head()"
   ]
  },
  {
   "cell_type": "code",
   "execution_count": 69,
   "id": "committed-disability",
   "metadata": {},
   "outputs": [],
   "source": [
    "# df.to_csv('ChapVerse.csv',index=None,header=True)"
   ]
  },
  {
   "cell_type": "markdown",
   "id": "apparent-counter",
   "metadata": {},
   "source": [
    "#### Skeleton to generate from prev cells\n",
    "\n",
    "    chapterNos, verseNos = 1,1\n",
    "    base = 'https://www.holy-bhagavad-gita.org/chapter/'  \n",
    "    base = base + str(chapterNos)\n",
    "    base = base + '/verse/' \n",
    "    base = base + str(verseNos)  \n",
    "    base = base + '/'"
   ]
  },
  {
   "cell_type": "code",
   "execution_count": 70,
   "id": "mighty-voluntary",
   "metadata": {},
   "outputs": [
    {
     "name": "stdout",
     "output_type": "stream",
     "text": [
      "700\n"
     ]
    }
   ],
   "source": [
    "df = pd.read_csv('ChapVerse.csv')\n",
    "\n",
    "c = 0\n",
    "for i in df['Number']:\n",
    "    for j in range(df.iloc[int(i)-1,2]):\n",
    "        chapterNos, verseNos = i,j+1\n",
    "        base = 'https://www.holy-bhagavad-gita.org/chapter/'  \n",
    "        base = base + str(chapterNos)\n",
    "        base = base + '/verse/' \n",
    "        base = base + str(verseNos)  \n",
    "        base = base + '/'\n",
    "        \n",
    "        c = c + 1\n",
    "\n",
    "print(c)"
   ]
  },
  {
   "cell_type": "markdown",
   "id": "convinced-taxation",
   "metadata": {},
   "source": [
    "### Notes about usage \n",
    "\n",
    "1. This above loop should be a function, which takes o/p url based on current msg number\n",
    "2. It will take msg number as an input\n",
    "3. Msg number will be read based on last message number sent to group"
   ]
  },
  {
   "cell_type": "code",
   "execution_count": 64,
   "id": "geological-appliance",
   "metadata": {},
   "outputs": [],
   "source": [
    "## Input as msg number\n",
    "## O/p as url\n",
    "\n",
    "def verseUrl(m):\n",
    "    \n",
    "    df = pd.read_csv('ChapVerse.csv')\n",
    "    \n",
    "    c = 0\n",
    "    for i in df['Number']:\n",
    "        for j in range(df.iloc[int(i)-1,2]):\n",
    "            chapterNos, verseNos = i,j+1\n",
    "            base = 'https://www.holy-bhagavad-gita.org/chapter/'  \n",
    "            base = base + str(chapterNos)\n",
    "            base = base + '/verse/' \n",
    "            base = base + str(verseNos)  \n",
    "            base = base + '/'\n",
    "\n",
    "            c = c + 1\n",
    "            \n",
    "            if c == m:\n",
    "                flag = True\n",
    "                return base\n",
    "    \n",
    "    return 'Invalid msg number'"
   ]
  },
  {
   "cell_type": "code",
   "execution_count": 65,
   "id": "compressed-particle",
   "metadata": {},
   "outputs": [
    {
     "data": {
      "text/plain": [
       "'https://www.holy-bhagavad-gita.org/chapter/1/verse/5/'"
      ]
     },
     "execution_count": 65,
     "metadata": {},
     "output_type": "execute_result"
    }
   ],
   "source": [
    "verseUrl(5)"
   ]
  },
  {
   "cell_type": "code",
   "execution_count": 71,
   "id": "varying-joyce",
   "metadata": {},
   "outputs": [
    {
     "data": {
      "text/plain": [
       "'https://www.holy-bhagavad-gita.org/chapter/2/verse/8/'"
      ]
     },
     "execution_count": 71,
     "metadata": {},
     "output_type": "execute_result"
    }
   ],
   "source": [
    "verseUrl(55)"
   ]
  },
  {
   "cell_type": "code",
   "execution_count": 67,
   "id": "saved-volume",
   "metadata": {},
   "outputs": [
    {
     "data": {
      "text/plain": [
       "'https://www.holy-bhagavad-gita.org/chapter/2/verse/1/'"
      ]
     },
     "execution_count": 67,
     "metadata": {},
     "output_type": "execute_result"
    }
   ],
   "source": [
    "verseUrl(48)"
   ]
  },
  {
   "cell_type": "markdown",
   "id": "responsible-rebecca",
   "metadata": {},
   "source": [
    "### Accessing DB file and finding msg number"
   ]
  },
  {
   "cell_type": "code",
   "execution_count": 93,
   "id": "satisfactory-conference",
   "metadata": {},
   "outputs": [],
   "source": [
    "f = open(\"PyWhatKit_DB.txt\", \"r\")"
   ]
  },
  {
   "cell_type": "code",
   "execution_count": 94,
   "id": "arbitrary-hungarian",
   "metadata": {},
   "outputs": [
    {
     "data": {
      "text/plain": [
       "['Date: 13/2/2022\\n',\n",
       " 'Time: 3:36\\n',\n",
       " 'Group ID: CsAe0NnmW1n1eRf7P7IE61\\n',\n",
       " 'Message: dhritarashtra uvacha dharma-kshetre kuru-kshetre samaveta yuyutsavah mamakah pandavashchaiva kimakurvata sanjaya>\\n',\n",
       " '--------------------\\n',\n",
       " 'Date: 13/2/2022\\n',\n",
       " 'Time: 3:43\\n',\n",
       " 'Group ID: CsAe0NnmW1n1eRf7P7IE61\\n',\n",
       " 'Message: dhritarashtra uvacha dharma-kshetre kuru-kshetre samaveta yuyutsavah mamakah pandavashchaiva kimakurvata sanjaya>\\n',\n",
       " '--------------------\\n']"
      ]
     },
     "execution_count": 94,
     "metadata": {},
     "output_type": "execute_result"
    }
   ],
   "source": [
    "lines = f.readlines()\n",
    "lines"
   ]
  },
  {
   "cell_type": "code",
   "execution_count": 100,
   "id": "valuable-acting",
   "metadata": {},
   "outputs": [
    {
     "name": "stdout",
     "output_type": "stream",
     "text": [
      "3\n"
     ]
    }
   ],
   "source": [
    "c = 1\n",
    "for x in range(0,len(lines),5):\n",
    "    try:\n",
    "#         print(lines[x])\n",
    "        c = c + 1\n",
    "    except IndexError:\n",
    "        print(c)\n",
    "        break\n",
    "#     print(c)\n",
    "\n",
    "print(c)"
   ]
  },
  {
   "cell_type": "code",
   "execution_count": 103,
   "id": "fatal-biotechnology",
   "metadata": {},
   "outputs": [],
   "source": [
    "def findMsgNos():\n",
    "    f = open(\"PyWhatKit_DB.txt\", \"r\")\n",
    "    lines = f.readlines()\n",
    "    \n",
    "    c = 1\n",
    "    for x in range(0,len(lines),5):\n",
    "        c = c + 1\n",
    "    return c"
   ]
  },
  {
   "cell_type": "code",
   "execution_count": null,
   "id": "final-costa",
   "metadata": {},
   "outputs": [],
   "source": []
  },
  {
   "cell_type": "code",
   "execution_count": null,
   "id": "incorporated-spice",
   "metadata": {},
   "outputs": [],
   "source": []
  },
  {
   "cell_type": "code",
   "execution_count": 112,
   "id": "complicated-covering",
   "metadata": {},
   "outputs": [],
   "source": [
    "def getMsg():\n",
    "    # Getting url by passing msg sequence number\n",
    "    URL = verseUrl(findMsgNos())\n",
    "\n",
    "    # Getting page of specific url\n",
    "    page = requests.get(URL)\n",
    "\n",
    "    # Using soup for better reading\n",
    "    soup = BeautifulSoup(page.content, \"html.parser\")\n",
    "    \n",
    "    # Finding the title\n",
    "    title = str(soup.title)\n",
    "\n",
    "    # Finding the verse\n",
    "    soup.find(id='transliteration_wo_dia')\n",
    "\n",
    "    # Cleaning to obtain message\n",
    "    m2 = title.split(', The')[0]\n",
    "    m3 = m2.replace('<title>','')\n",
    "    \n",
    "    verse = soup.find(id='transliteration_wo_dia').p\n",
    "    t = str(verse)\n",
    "    t2 = t.replace('<br/>','\\n')\n",
    "    t3 = t2.replace('<p>','').replace('</p>','')\n",
    "    \n",
    "    msg = m3 + '\\n' + t3\n",
    "\n",
    "    return msg"
   ]
  },
  {
   "cell_type": "code",
   "execution_count": 113,
   "id": "scientific-impression",
   "metadata": {},
   "outputs": [
    {
     "data": {
      "text/plain": [
       "'Chapter 1, Verse 3 – Bhagavad Gita\\npashyaitam pandu-putranam acharya mahatim chamum\\n vyudham drupada-putrena tava shishyena dhimata'"
      ]
     },
     "execution_count": 113,
     "metadata": {},
     "output_type": "execute_result"
    }
   ],
   "source": [
    "getMsg()"
   ]
  },
  {
   "cell_type": "code",
   "execution_count": 13,
   "id": "broad-chosen",
   "metadata": {},
   "outputs": [],
   "source": [
    "### Make this a py file w relevant info and build main as next step"
   ]
  }
 ],
 "metadata": {
  "kernelspec": {
   "display_name": "Python 3",
   "language": "python",
   "name": "python3"
  },
  "language_info": {
   "codemirror_mode": {
    "name": "ipython",
    "version": 3
   },
   "file_extension": ".py",
   "mimetype": "text/x-python",
   "name": "python",
   "nbconvert_exporter": "python",
   "pygments_lexer": "ipython3",
   "version": "3.9.1"
  }
 },
 "nbformat": 4,
 "nbformat_minor": 5
}
