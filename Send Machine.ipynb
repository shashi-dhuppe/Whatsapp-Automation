{
 "cells": [
  {
   "cell_type": "code",
   "execution_count": 1,
   "id": "blond-market",
   "metadata": {},
   "outputs": [],
   "source": [
    "import pywhatkit"
   ]
  },
  {
   "cell_type": "code",
   "execution_count": 2,
   "id": "dying-spyware",
   "metadata": {},
   "outputs": [],
   "source": [
    "group_invite_link = 'https://chat.whatsapp.com/CsAe0NnmW1n1eRf7P7IE61'"
   ]
  },
  {
   "cell_type": "code",
   "execution_count": 3,
   "id": "specific-strengthening",
   "metadata": {},
   "outputs": [],
   "source": [
    "groupId = group_invite_link.split('/')[-1]"
   ]
  },
  {
   "cell_type": "code",
   "execution_count": 4,
   "id": "acting-herald",
   "metadata": {},
   "outputs": [],
   "source": [
    "msg = 'dhritarashtra uvacha\\n dharma-kshetre kuru-kshetre samaveta yuyutsavah\\n mamakah pandavashchaiva kimakurvata sanjaya>'"
   ]
  },
  {
   "cell_type": "code",
   "execution_count": 5,
   "id": "micro-efficiency",
   "metadata": {},
   "outputs": [
    {
     "name": "stdout",
     "output_type": "stream",
     "text": [
      "In 55 Seconds WhatsApp will open and after 15 Seconds Message will be Delivered!\n",
      "Successfully Sent!\n"
     ]
    }
   ],
   "source": [
    "# Using Exception Handling to avoid unprecedented errors\n",
    "\n",
    "try:\n",
    "   \n",
    "    # Sending message to receiver using pywhatkit\n",
    "    pywhatkit.sendwhatmsg_to_group('CsAe0NnmW1n1eRf7P7IE61',msg,3,45)\n",
    "    print(\"Successfully Sent!\")\n",
    "\n",
    "except:\n",
    "    \n",
    "    # Handling exception and printing error message\n",
    "\n",
    "    print(\"An Unexpected Error!\")"
   ]
  },
  {
   "cell_type": "markdown",
   "id": "published-utility",
   "metadata": {},
   "source": [
    "### This worked\n",
    "\n",
    "Next Step: Converting this to py and using it in main function when main is ready"
   ]
  },
  {
   "cell_type": "code",
   "execution_count": null,
   "id": "sapphire-dictionary",
   "metadata": {},
   "outputs": [],
   "source": []
  }
 ],
 "metadata": {
  "kernelspec": {
   "display_name": "Python 3",
   "language": "python",
   "name": "python3"
  },
  "language_info": {
   "codemirror_mode": {
    "name": "ipython",
    "version": 3
   },
   "file_extension": ".py",
   "mimetype": "text/x-python",
   "name": "python",
   "nbconvert_exporter": "python",
   "pygments_lexer": "ipython3",
   "version": "3.9.1"
  }
 },
 "nbformat": 4,
 "nbformat_minor": 5
}
