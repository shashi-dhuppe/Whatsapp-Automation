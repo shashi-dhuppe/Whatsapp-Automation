{
 "cells": [
  {
   "cell_type": "code",
   "execution_count": 1,
   "id": "amino-underground",
   "metadata": {},
   "outputs": [],
   "source": [
    "## Importing Libraries\n",
    "\n",
    "import pywhatkit\n",
    "from decouple import config"
   ]
  },
  {
   "cell_type": "code",
   "execution_count": null,
   "id": "first-waterproof",
   "metadata": {},
   "outputs": [],
   "source": [
    "def sendMessage(msg,group,hour,minute):\n",
    "    \n",
    "    group = config('Group_Invite_Link')\n",
    "    hour = config('Hour')\n",
    "    minute = config('Minute')\n",
    "    \n",
    "    groupId = group.split('/')[-1]\n",
    "    # Using Exception Handling to avoid unprecedented errors\n",
    "\n",
    "    try:\n",
    "\n",
    "        # Sending message to receiver using pywhatkit\n",
    "        pywhatkit.sendwhatmsg_to_group(group,msg,hour,minute)\n",
    "        \n",
    "        print(\"Successfully Sent!\")\n",
    "\n",
    "    except:\n",
    "\n",
    "        # Handling exception and printing error message\n",
    "\n",
    "        print(\"An Unexpected Error!\")"
   ]
  }
 ],
 "metadata": {
  "kernelspec": {
   "display_name": "Python 3",
   "language": "python",
   "name": "python3"
  },
  "language_info": {
   "codemirror_mode": {
    "name": "ipython",
    "version": 3
   },
   "file_extension": ".py",
   "mimetype": "text/x-python",
   "name": "python",
   "nbconvert_exporter": "python",
   "pygments_lexer": "ipython3",
   "version": "3.9.1"
  }
 },
 "nbformat": 4,
 "nbformat_minor": 5
}
